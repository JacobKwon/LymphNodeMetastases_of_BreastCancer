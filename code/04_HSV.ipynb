{
 "cells": [
  {
   "cell_type": "markdown",
   "id": "a2bcba5f-002e-4f49-9622-ada6117faf0a",
   "metadata": {},
   "source": [
    "## Import"
   ]
  },
  {
   "cell_type": "code",
   "execution_count": null,
   "id": "b658348d",
   "metadata": {},
   "outputs": [],
   "source": [
    "import random\n",
    "import pandas as pd\n",
    "import numpy as np\n",
    "import os\n",
    "import cv2\n",
    "from tqdm.auto import tqdm\n",
    "\n",
    "import torch\n",
    "import torch.nn as nn\n",
    "import torch.optim as optim\n",
    "import torch.nn.functional as F\n",
    "from torch.utils.data import Dataset, DataLoader\n",
    "\n",
    "import albumentations as A\n",
    "from albumentations.pytorch.transforms import ToTensorV2\n",
    "\n",
    "import torchvision.models as models\n",
    "\n",
    "from sklearn import metrics\n",
    "from sklearn.preprocessing import StandardScaler, LabelEncoder\n",
    "\n",
    "from sklearn.model_selection import train_test_split\n",
    "\n",
    "import warnings\n",
    "warnings.filterwarnings(action='ignore') "
   ]
  },
  {
   "cell_type": "code",
   "execution_count": 2,
   "id": "d13862e3-bb27-47af-9b58-a9fbf804df71",
   "metadata": {},
   "outputs": [],
   "source": [
    "device = torch.device('cuda') if torch.cuda.is_available() else torch.device('cpu')"
   ]
  },
  {
   "cell_type": "markdown",
   "id": "fc7df3f2-62d0-4499-a46e-47d01699def0",
   "metadata": {},
   "source": [
    "## Hyperparameter Setting"
   ]
  },
  {
   "cell_type": "code",
   "execution_count": 3,
   "id": "c3367399-9798-4e38-967b-fd2320b9a2b2",
   "metadata": {},
   "outputs": [],
   "source": [
    "CFG = {\n",
    "    'IMG_SIZE':512,\n",
    "    'EPOCHS':5,\n",
    "    'LEARNING_RATE':1e-4,\n",
    "    'BATCH_SIZE':16,\n",
    "    'SEED':41\n",
    "}"
   ]
  },
  {
   "cell_type": "markdown",
   "id": "4254e860-ff82-43ba-bfa3-fcee4eb3ddbd",
   "metadata": {},
   "source": [
    "## Fixed RandomSeed"
   ]
  },
  {
   "cell_type": "code",
   "execution_count": 4,
   "id": "101a714b-71b6-4475-a4ce-fa5f98bc2731",
   "metadata": {},
   "outputs": [],
   "source": [
    "def seed_everything(seed):\n",
    "    random.seed(seed)\n",
    "    os.environ['PYTHONHASHSEED'] = str(seed)\n",
    "    np.random.seed(seed)\n",
    "    torch.manual_seed(seed)\n",
    "    torch.cuda.manual_seed(seed)\n",
    "    torch.backends.cudnn.deterministic = True\n",
    "    torch.backends.cudnn.benchmark = True\n",
    "\n",
    "seed_everything(CFG['SEED']) # Seed 고정"
   ]
  },
  {
   "attachments": {},
   "cell_type": "markdown",
   "id": "05a4172e-5791-446f-9616-35c09d8bf25a",
   "metadata": {},
   "source": [
    "## Data Pre-processing"
   ]
  },
  {
   "cell_type": "code",
   "execution_count": 5,
   "id": "a62c78cd-4f40-4e98-b8a6-1b6f1d906b4d",
   "metadata": {},
   "outputs": [],
   "source": [
    "train = pd.read_csv('C:/Users/?/Desktop/Research/Projects/CP2/open/train.csv')\n",
    "test = pd.read_csv('C:/Users/?/Desktop/Research/Projects/CP2/open/test.csv')"
   ]
  },
  {
   "cell_type": "code",
   "execution_count": 6,
   "id": "fed6dfed",
   "metadata": {},
   "outputs": [],
   "source": [
    "# EDA\n",
    "def data_preprocessing(dataframe):\n",
    "    \n",
    "    # drop_duplicates\n",
    "    dataframe.drop_duplicates(inplace=True)\n",
    "    \n",
    "    # drop non-training columns\n",
    "    dataframe.drop(['DCIS_or_LCIS_type', 'HER2_SISH', 'HER2_SISH_ratio'], axis = 1, inplace=True)\n",
    "    \n",
    "    # fillna BRCA_mutation, 3 => '3' is new category that means 'not examine'\n",
    "    dataframe['BRCA_mutation'].fillna(3.0, inplace=True)\n",
    "    \n",
    "    # data processing about 'HG' columns\n",
    "    for i in range(len(dataframe)):\n",
    "        # if every values about 'HG' is null that fill in grade '4'\n",
    "        if (np.isnan(dataframe.loc[i, 'HG'])) & (np.isnan(dataframe.loc[i, 'HG_score_1'])) & (np.isnan(dataframe.loc[i, 'HG_score_2'])) & (np.isnan(dataframe.loc[i, 'HG_score_3'])):\n",
    "            dataframe.loc[i, 'HG'] = 4.0\n",
    "            dataframe.loc[i, 'HG_score_1'] = 4.0\n",
    "            dataframe.loc[i, 'HG_score_2'] = 4.0\n",
    "            dataframe.loc[i, 'HG_score_3'] = 4.0\n",
    "        # if every values about 'HG_score' except 'HG' is null that fill in condition\n",
    "        elif (not np.isnan(dataframe.loc[i, 'HG'])) & (np.isnan(dataframe.loc[i, 'HG_score_1'])) & (np.isnan(dataframe.loc[i, 'HG_score_2'])) & (np.isnan(dataframe.loc[i, 'HG_score_3'])):\n",
    "            # if 'HG' is 2.0 that fill in 2.0\n",
    "            if dataframe.loc[i, 'HG'] == 2.0:\n",
    "                dataframe.loc[i, 'HG_score_1'] = 2.0\n",
    "                dataframe.loc[i, 'HG_score_2'] = 2.0\n",
    "                dataframe.loc[i, 'HG_score_3'] = 2.0\n",
    "            # if 'HG' is 3.0 that fill in 3.0\n",
    "            elif dataframe.loc[i, 'HG'] == 3.0:\n",
    "                dataframe.loc[i, 'HG_score_1'] = 3.0\n",
    "                dataframe.loc[i, 'HG_score_2'] = 3.0\n",
    "                dataframe.loc[i, 'HG_score_3'] = 3.0\n",
    "            else:\n",
    "                dataframe.loc[i, 'HG_score_1'] = 1.0\n",
    "                dataframe.loc[i, 'HG_score_2'] = 1.0\n",
    "                dataframe.loc[i, 'HG_score_3'] = 1.0\n",
    "        # other 'HG' cases drop index at the end of EDA\n",
    "    \n",
    "    # data processing about 'NG' columns\n",
    "    for f in range(len(dataframe)):\n",
    "        if (np.isnan(dataframe.loc[f, 'NG'])) & (dataframe.loc[f, 'HG'] == 1.0) | (dataframe.loc[f, 'HG'] == 4.0):\n",
    "            dataframe.loc[f, 'NG'] = 1.0\n",
    "        elif (np.isnan(dataframe.loc[f, 'NG'])) & (dataframe.loc[f, 'HG'] == 2.0):\n",
    "            dataframe.loc[f, 'NG'] = 2.0\n",
    "        elif (np.isnan(dataframe.loc[f, 'NG'])) & (dataframe.loc[f, 'HG'] == 3.0):\n",
    "            dataframe.loc[f, 'NG'] = 3.0\n",
    "    \n",
    "    # 'T_category' column fill in mode\n",
    "    dataframe['T_category'].fillna(dataframe['T_category'].mode()[0], inplace=True)\n",
    "    \n",
    "    # 'KI-67' column fill in mean\n",
    "    dataframe['KI-67_LI_percent'].fillna(dataframe['KI-67_LI_percent'].mean(), inplace=True)\n",
    "    \n",
    "    # if 'ER' or 'PR' is null that fill in condition\n",
    "    for g in range(len(dataframe)):\n",
    "        if (np.isnan(dataframe.loc[g, 'ER'])) | (np.isnan(dataframe.loc[g, 'PR'])):\n",
    "            dataframe.drop(g, inplace=True, axis = 0)\n",
    "    dataframe.reset_index(drop=True, inplace=True)\n",
    "\n",
    "    for j in range(len(dataframe)):\n",
    "        if (dataframe.loc[j, 'ER'] == 0.0) & (np.isnan(dataframe.loc[j, 'ER_Allred_score'])):\n",
    "            dataframe.loc[j, 'ER_Allred_score'] = 0.0\n",
    "        elif (dataframe.loc[j, 'ER'] == 1.0) & (np.isnan(dataframe.loc[j, 'ER_Allred_score'])):\n",
    "            dataframe.loc[j, 'ER_Allred_score'] = dataframe['ER'].mean()\n",
    "\n",
    "    for d in range(len(dataframe)):\n",
    "        if (dataframe.loc[d, 'PR'] == 0.0) & (np.isnan(dataframe.loc[d, 'PR_Allred_score'])):\n",
    "            dataframe.loc[d, 'PR_Allred_score'] = 0.0\n",
    "        elif (dataframe.loc[d, 'PR'] == 1.0) & (np.isnan(dataframe.loc[d, 'PR_Allred_score'])):\n",
    "            dataframe.loc[d, 'PR_Allred_score'] = dataframe['PR'].mean()\n",
    "    \n",
    "    # '암의 장경' fill in mean\n",
    "    dataframe['암의 장경'].fillna(dataframe['암의 장경'].mean(), inplace=True)\n",
    "\n",
    "    # 'HER2_IHC' fill in contion\n",
    "    for h in range(len(dataframe)):\n",
    "        if np.isnan(dataframe.loc[h, 'HER2_IHC']):\n",
    "            dataframe.loc[h, 'HER2_IHC'] = dataframe.loc[h, 'HER2']\n",
    "        elif (dataframe.loc[h, 'HER2_IHC'] < 2) & (dataframe.loc[h, 'HER2'] == 1):\n",
    "            dataframe.loc[h, 'HER2_IHC'] = 2.0\n",
    "        elif (dataframe.loc[h, 'HER2_IHC'] > 1) & (dataframe.loc[h, 'HER2'] == 0):\n",
    "            dataframe.loc[h, 'HER2_IHC'] = 1.0\n",
    "        elif np.isnan(dataframe.loc[h, 'HER2']):\n",
    "            if dataframe.loc[h, 'HER2_IHC'] >= 2:\n",
    "                dataframe.loc[h, 'HER2'] = 1.0\n",
    "            elif dataframe.loc[h, 'HER2_IHC'] < 2:\n",
    "                dataframe.loc[h, 'HER2'] = 0.0\n",
    "    \n",
    "    # drop another 'NaN' values\n",
    "    dataframe.dropna(inplace = True)\n",
    "    dataframe.reset_index(drop=True, inplace=True)\n",
    "\n",
    "    print(len(dataframe))\n",
    "    print(dataframe.isnull().sum())\n",
    "    return dataframe"
   ]
  },
  {
   "cell_type": "code",
   "execution_count": 7,
   "id": "7ff39398",
   "metadata": {},
   "outputs": [
    {
     "name": "stdout",
     "output_type": "stream",
     "text": [
      "996\n",
      "ID                  0\n",
      "img_path            0\n",
      "mask_path           0\n",
      "나이                  0\n",
      "수술연월일               0\n",
      "진단명                 0\n",
      "암의 위치               0\n",
      "암의 개수               0\n",
      "암의 장경               0\n",
      "NG                  0\n",
      "HG                  0\n",
      "HG_score_1          0\n",
      "HG_score_2          0\n",
      "HG_score_3          0\n",
      "DCIS_or_LCIS_여부     0\n",
      "T_category          0\n",
      "ER                  0\n",
      "ER_Allred_score     0\n",
      "PR                  0\n",
      "PR_Allred_score     0\n",
      "KI-67_LI_percent    0\n",
      "HER2                0\n",
      "HER2_IHC            0\n",
      "BRCA_mutation       0\n",
      "N_category          0\n",
      "dtype: int64\n",
      "250\n",
      "ID                  0\n",
      "img_path            0\n",
      "나이                  0\n",
      "수술연월일               0\n",
      "진단명                 0\n",
      "암의 위치               0\n",
      "암의 개수               0\n",
      "암의 장경               0\n",
      "NG                  0\n",
      "HG                  0\n",
      "HG_score_1          0\n",
      "HG_score_2          0\n",
      "HG_score_3          0\n",
      "DCIS_or_LCIS_여부     0\n",
      "T_category          0\n",
      "ER                  0\n",
      "ER_Allred_score     0\n",
      "PR                  0\n",
      "PR_Allred_score     0\n",
      "KI-67_LI_percent    0\n",
      "HER2                0\n",
      "HER2_IHC            0\n",
      "BRCA_mutation       0\n",
      "dtype: int64\n"
     ]
    }
   ],
   "source": [
    "train_set = data_preprocessing(train)\n",
    "test_df = data_preprocessing(test)"
   ]
  },
  {
   "cell_type": "code",
   "execution_count": null,
   "id": "062939ab",
   "metadata": {},
   "outputs": [],
   "source": [
    "train_set['img_path'] = train_set['img_path'].str.replace('\\./train_imgs', 'C:/Users/?/Desktop/Research/Projects/CP2/open/train_imgs')\n",
    "test_df['img_path'] = test_df['img_path'].str.replace('\\./test_imgs', 'C:/Users/?/Desktop/Research/Projects/CP2/open/test_imgs')\n",
    "\n",
    "train_set['img_path'].head()"
   ]
  },
  {
   "cell_type": "code",
   "execution_count": 11,
   "id": "8190632d-4da4-4fe4-906d-d232eec292d3",
   "metadata": {},
   "outputs": [],
   "source": [
    "train_df, val_df, train_labels, val_labels = train_test_split(\n",
    "                                                    train_set.drop(columns=['N_category']), \n",
    "                                                    train_set['N_category'], \n",
    "                                                    test_size=0.2, \n",
    "                                                    random_state=CFG['SEED']\n",
    "                                                )"
   ]
  },
  {
   "cell_type": "code",
   "execution_count": 14,
   "id": "32940328",
   "metadata": {},
   "outputs": [
    {
     "name": "stdout",
     "output_type": "stream",
     "text": [
      "796\n",
      "200\n",
      "796\n",
      "200\n"
     ]
    }
   ],
   "source": [
    "print(len(train_df))\n",
    "print(len(val_df))\n",
    "print(len(train_labels))\n",
    "print(len(val_labels))"
   ]
  },
  {
   "cell_type": "code",
   "execution_count": 15,
   "id": "c6382e41-c2d7-4317-809a-88378bdf5c40",
   "metadata": {},
   "outputs": [],
   "source": [
    "def get_values(value):\n",
    "    return value.values.reshape(-1, 1)\n",
    "\n",
    "numeric_cols = ['나이', '암의 장경', 'ER_Allred_score', 'PR_Allred_score', 'KI-67_LI_percent']\n",
    "ignore_cols = ['ID', 'img_path', 'mask_path', '수술연월일', 'N_category']\n",
    "\n",
    "for col in train_df.columns:\n",
    "    if col in ignore_cols:\n",
    "        continue\n",
    "    if col in numeric_cols:\n",
    "        scaler = StandardScaler()\n",
    "        train_df[col] = scaler.fit_transform(get_values(train_df[col]))\n",
    "        val_df[col] = scaler.transform(get_values(val_df[col]))\n",
    "        test_df[col] = scaler.transform(get_values(test_df[col]))\n",
    "    else:\n",
    "        le = LabelEncoder()\n",
    "        train_df[col] = le.fit_transform(get_values(train_df[col]))\n",
    "        val_df[col] = le.transform(get_values(val_df[col]))\n",
    "        test_df[col] = le.transform(get_values(test_df[col]))"
   ]
  },
  {
   "cell_type": "markdown",
   "id": "ac27ed36-8031-47a7-bd0d-a913513f2e8e",
   "metadata": {},
   "source": [
    "## CustomDataset"
   ]
  },
  {
   "cell_type": "code",
   "execution_count": 16,
   "id": "16fd60a5-24e2-4539-bfd0-1c374a641699",
   "metadata": {},
   "outputs": [],
   "source": [
    "class CustomDataset(Dataset):\n",
    "    def __init__(self, medical_df, labels, transforms=None):\n",
    "        self.medical_df = medical_df\n",
    "        self.transforms = transforms\n",
    "        self.labels = labels\n",
    "        \n",
    "    def __getitem__(self, index):\n",
    "        img_path = self.medical_df['img_path'].iloc[index]\n",
    "        image2 = cv2.imread(img_path)\n",
    "        image = cv2.cvtColor(image2, cv2.COLOR_BGR2HSV)\n",
    "        \n",
    "        if self.transforms is not None:\n",
    "            image = self.transforms(image=image)['image']\n",
    "                \n",
    "        if self.labels is not None:\n",
    "            tabular = torch.Tensor(self.medical_df.drop(columns=['ID', 'img_path', 'mask_path', '수술연월일']).iloc[index])\n",
    "            label = self.labels[index]\n",
    "            return image, tabular, label\n",
    "        else:\n",
    "            tabular = torch.Tensor(self.medical_df.drop(columns=['ID', 'img_path', '수술연월일']).iloc[index])\n",
    "            return image, tabular\n",
    "        \n",
    "    def __len__(self):\n",
    "        return len(self.medical_df)"
   ]
  },
  {
   "cell_type": "code",
   "execution_count": 17,
   "id": "91a9e808-4666-4571-9ee1-353352aa6c62",
   "metadata": {},
   "outputs": [],
   "source": [
    "train_transforms = A.Compose([\n",
    "                            A.HorizontalFlip(),\n",
    "                            A.VerticalFlip(),\n",
    "                            A.Rotate(limit=90, border_mode=cv2.BORDER_CONSTANT,p=0.3),\n",
    "                            A.Resize(CFG['IMG_SIZE'],CFG['IMG_SIZE']),\n",
    "                            A.Normalize(mean=(0.485, 0.456, 0.406), std=(0.229, 0.224, 0.225), max_pixel_value=255.0, always_apply=False, p=1.0),\n",
    "                            ToTensorV2()\n",
    "                            ])\n",
    "\n",
    "test_transforms = A.Compose([\n",
    "                            A.Resize(CFG['IMG_SIZE'],CFG['IMG_SIZE']),\n",
    "                            A.Normalize(mean=(0.485, 0.456, 0.406), std=(0.229, 0.224, 0.225), max_pixel_value=255.0, always_apply=False, p=1.0),\n",
    "                            ToTensorV2()\n",
    "                            ])"
   ]
  },
  {
   "cell_type": "code",
   "execution_count": 18,
   "id": "9d880481-1965-499d-9caa-fdfa8526f789",
   "metadata": {},
   "outputs": [],
   "source": [
    "train_dataset = CustomDataset(train_df, train_labels.values, train_transforms)\n",
    "train_loader = DataLoader(train_dataset, batch_size = CFG['BATCH_SIZE'], shuffle=True, num_workers=0)\n",
    "\n",
    "val_dataset = CustomDataset(val_df, val_labels.values, test_transforms)\n",
    "val_loader = DataLoader(val_dataset, batch_size=CFG['BATCH_SIZE'], shuffle=False, num_workers=0)"
   ]
  },
  {
   "cell_type": "markdown",
   "id": "39962463-032f-490a-a76d-c03991795f38",
   "metadata": {},
   "source": [
    "## Model Architecture"
   ]
  },
  {
   "cell_type": "code",
   "execution_count": 25,
   "id": "99256fc3-554b-4f69-abee-361281409e0d",
   "metadata": {},
   "outputs": [],
   "source": [
    "class ImgFeatureExtractor(nn.Module):\n",
    "    def __init__(self):\n",
    "        super(ImgFeatureExtractor, self).__init__()\n",
    "        self.backbone = models.efficientnet_b0(pretrained=True)\n",
    "        self.embedding = nn.Linear(1000, 512)\n",
    "        \n",
    "    def forward(self, x):\n",
    "        x = self.backbone(x)\n",
    "        x = self.embedding(x)\n",
    "        return x"
   ]
  },
  {
   "cell_type": "code",
   "execution_count": 26,
   "id": "d7658ff6-a8e1-4c74-85d5-12df02e9daea",
   "metadata": {},
   "outputs": [],
   "source": [
    "class TabularFeatureExtractor(nn.Module):\n",
    "    def __init__(self):\n",
    "        super(TabularFeatureExtractor, self).__init__()\n",
    "        self.embedding = nn.Sequential(\n",
    "            nn.Linear(in_features=20, out_features=128),\n",
    "            nn.BatchNorm1d(128),\n",
    "            nn.LeakyReLU(),\n",
    "            nn.Linear(in_features=128, out_features=256),\n",
    "            nn.BatchNorm1d(256),\n",
    "            nn.LeakyReLU(),\n",
    "            nn.Linear(in_features=256, out_features=512),\n",
    "            nn.BatchNorm1d(512),\n",
    "            nn.LeakyReLU(),\n",
    "            nn.Linear(in_features=512, out_features=512),\n",
    "        )\n",
    "        \n",
    "    def forward(self, x):\n",
    "        x = self.embedding(x)\n",
    "        return x"
   ]
  },
  {
   "cell_type": "code",
   "execution_count": 27,
   "id": "3664c4d0-f1f2-4971-9090-4d6ee66309ae",
   "metadata": {},
   "outputs": [],
   "source": [
    "class ClassificationModel(nn.Module):\n",
    "    def __init__(self):\n",
    "        super(ClassificationModel, self).__init__()\n",
    "        self.img_feature_extractor = ImgFeatureExtractor()\n",
    "        self.tabular_feature_extractor = TabularFeatureExtractor()\n",
    "        self.classifier = nn.Sequential(\n",
    "            nn.Linear(in_features=1024, out_features=1),\n",
    "            nn.Sigmoid(),\n",
    "        )\n",
    "        \n",
    "    def forward(self, img, tabular):\n",
    "        img_feature = self.img_feature_extractor(img)\n",
    "        tabular_feature = self.tabular_feature_extractor(tabular)\n",
    "        feature = torch.cat([img_feature, tabular_feature], dim=-1)\n",
    "        output = self.classifier(feature)\n",
    "        return output"
   ]
  },
  {
   "cell_type": "markdown",
   "id": "122af0aa-a1fd-4595-9488-35761e3cb596",
   "metadata": {},
   "source": [
    "## Train"
   ]
  },
  {
   "cell_type": "code",
   "execution_count": 28,
   "id": "a17df6b3-16c9-44dd-b0fd-ffb501fee749",
   "metadata": {},
   "outputs": [],
   "source": [
    "def train(model, optimizer, train_loader, val_loader, scheduler, device):\n",
    "    model.to(device)\n",
    "    criterion = nn.BCEWithLogitsLoss().to(device)\n",
    "    \n",
    "    best_score = 0\n",
    "    best_model = None\n",
    "    \n",
    "    for epoch in range(1, CFG['EPOCHS']+1):\n",
    "        model.train()\n",
    "        train_loss = []\n",
    "        for img, tabular, label in tqdm(iter(train_loader)):\n",
    "            img = img.float().to(device)\n",
    "            tabular = tabular.float().to(device)\n",
    "            label = label.float().to(device)\n",
    "            \n",
    "            optimizer.zero_grad()\n",
    "            \n",
    "            model_pred = model(img, tabular)\n",
    "            \n",
    "            loss = criterion(model_pred, label.reshape(-1,1))\n",
    "            \n",
    "            loss.backward()\n",
    "            optimizer.step()\n",
    "            \n",
    "            train_loss.append(loss.item())\n",
    "        \n",
    "        val_loss, val_score = validation(model, criterion, val_loader, device)\n",
    "        print(f'Epoch [{epoch}], Train Loss : [{np.mean(train_loss):.5f}] Val Loss : [{val_loss:.5f}] Val Score : [{val_score:.5f}]')\n",
    "        \n",
    "        if scheduler is not None:\n",
    "            scheduler.step(val_score)\n",
    "        \n",
    "        if best_score < val_score:\n",
    "            best_score = val_score\n",
    "            best_model = model\n",
    "    \n",
    "    return best_model"
   ]
  },
  {
   "cell_type": "code",
   "execution_count": 29,
   "id": "d97677fb-6f07-454f-b38c-5c626e13efc8",
   "metadata": {},
   "outputs": [],
   "source": [
    "def validation(model, criterion, val_loader, device):\n",
    "    model.eval()\n",
    "    pred_labels = []\n",
    "    true_labels = []\n",
    "    val_loss = []\n",
    "    threshold = 0.5\n",
    "    with torch.no_grad():\n",
    "        for img, tabular, label in tqdm(iter(val_loader)):\n",
    "            true_labels += label.tolist()\n",
    "            \n",
    "            img = img.float().to(device)\n",
    "            tabular = tabular.float().to(device)\n",
    "            label = label.float().to(device)\n",
    "            \n",
    "            model_pred = model(img, tabular)\n",
    "            \n",
    "            loss = criterion(model_pred, label.reshape(-1,1))\n",
    "            \n",
    "            val_loss.append(loss.item())\n",
    "            \n",
    "            model_pred = model_pred.squeeze(1).to('cpu')  \n",
    "            pred_labels += model_pred.tolist()\n",
    "    \n",
    "    pred_labels = np.where(np.array(pred_labels) > threshold, 1, 0)\n",
    "    val_score = metrics.f1_score(y_true=true_labels, y_pred=pred_labels, average='macro')\n",
    "    return np.mean(val_loss), val_score"
   ]
  },
  {
   "cell_type": "markdown",
   "id": "51da39f9-904f-4abd-a7d2-cdf29c4a6c24",
   "metadata": {},
   "source": [
    "## Train"
   ]
  },
  {
   "cell_type": "code",
   "execution_count": 30,
   "id": "86142d9a-68b7-4d04-8423-49d28025411d",
   "metadata": {
    "tags": []
   },
   "outputs": [
    {
     "name": "stderr",
     "output_type": "stream",
     "text": [
      "100%|██████████| 50/50 [14:17<00:00, 17.15s/it]\n",
      "100%|██████████| 13/13 [01:37<00:00,  7.48s/it]\n"
     ]
    },
    {
     "name": "stdout",
     "output_type": "stream",
     "text": [
      "Epoch [1], Train Loss : [0.64517] Val Loss : [0.62936] Val Score : [0.76611]\n"
     ]
    },
    {
     "name": "stderr",
     "output_type": "stream",
     "text": [
      "100%|██████████| 50/50 [13:12<00:00, 15.86s/it]\n",
      "100%|██████████| 13/13 [01:37<00:00,  7.47s/it]\n"
     ]
    },
    {
     "name": "stdout",
     "output_type": "stream",
     "text": [
      "Epoch [2], Train Loss : [0.60586] Val Loss : [0.61792] Val Score : [0.74725]\n"
     ]
    },
    {
     "name": "stderr",
     "output_type": "stream",
     "text": [
      "100%|██████████| 50/50 [13:18<00:00, 15.98s/it]\n",
      "100%|██████████| 13/13 [01:40<00:00,  7.71s/it]\n"
     ]
    },
    {
     "name": "stdout",
     "output_type": "stream",
     "text": [
      "Epoch [3], Train Loss : [0.58875] Val Loss : [0.61690] Val Score : [0.76881]\n"
     ]
    },
    {
     "name": "stderr",
     "output_type": "stream",
     "text": [
      "100%|██████████| 50/50 [13:24<00:00, 16.08s/it]\n",
      "100%|██████████| 13/13 [01:38<00:00,  7.55s/it]\n"
     ]
    },
    {
     "name": "stdout",
     "output_type": "stream",
     "text": [
      "Epoch [4], Train Loss : [0.59159] Val Loss : [0.61460] Val Score : [0.78125]\n"
     ]
    },
    {
     "name": "stderr",
     "output_type": "stream",
     "text": [
      "100%|██████████| 50/50 [13:32<00:00, 16.26s/it]\n",
      "100%|██████████| 13/13 [01:37<00:00,  7.51s/it]"
     ]
    },
    {
     "name": "stdout",
     "output_type": "stream",
     "text": [
      "Epoch [5], Train Loss : [0.57846] Val Loss : [0.61773] Val Score : [0.77494]\n"
     ]
    },
    {
     "name": "stderr",
     "output_type": "stream",
     "text": [
      "\n"
     ]
    }
   ],
   "source": [
    "model = nn.DataParallel(ClassificationModel())\n",
    "model.eval()\n",
    "optimizer = torch.optim.Adam(params = model.parameters(), lr = CFG[\"LEARNING_RATE\"])\n",
    "scheduler = torch.optim.lr_scheduler.ReduceLROnPlateau(optimizer, mode='max', factor=0.5, patience=1, threshold_mode='abs',min_lr=1e-8, verbose=True)\n",
    "\n",
    "infer_model = train(model, optimizer, train_loader, val_loader, scheduler, device)"
   ]
  },
  {
   "cell_type": "markdown",
   "id": "2da10051-3fb0-4792-8132-cad92066ad28",
   "metadata": {},
   "source": [
    "## Inference"
   ]
  },
  {
   "cell_type": "code",
   "execution_count": 31,
   "id": "563df001-9223-4340-a37f-95b0d5d05bd6",
   "metadata": {},
   "outputs": [],
   "source": [
    "test_dataset = CustomDataset(test_df, None, test_transforms)\n",
    "test_loader = DataLoader(test_dataset, batch_size=CFG['BATCH_SIZE'], shuffle=False, num_workers=0)"
   ]
  },
  {
   "cell_type": "code",
   "execution_count": 32,
   "id": "e2c21a4b-9e8e-4852-9275-54ade9cfb4db",
   "metadata": {},
   "outputs": [],
   "source": [
    "def inference(model, test_loader, device):\n",
    "    model.to(device)\n",
    "    model.eval()\n",
    "    preds = []\n",
    "    threshold = 0.5\n",
    "    \n",
    "    with torch.no_grad():\n",
    "        for img, tabular in tqdm(iter(test_loader)):\n",
    "            img = img.float().to(device)\n",
    "            tabular = tabular.float().to(device)\n",
    "            \n",
    "            model_pred = model(img, tabular)\n",
    "            \n",
    "            model_pred = model_pred.squeeze(1).to('cpu')\n",
    "            \n",
    "            preds += model_pred.tolist()\n",
    "    \n",
    "    preds = np.where(np.array(preds) > threshold, 1, 0)\n",
    "    \n",
    "    return preds"
   ]
  },
  {
   "cell_type": "code",
   "execution_count": 33,
   "id": "f7d78c5f-3d55-40d7-ae2a-3ed03dc1d3bd",
   "metadata": {},
   "outputs": [
    {
     "name": "stderr",
     "output_type": "stream",
     "text": [
      "100%|██████████| 16/16 [02:03<00:00,  7.72s/it]\n"
     ]
    }
   ],
   "source": [
    "preds = inference(infer_model, test_loader, device)"
   ]
  },
  {
   "cell_type": "code",
   "execution_count": null,
   "id": "90831d9d",
   "metadata": {},
   "outputs": [],
   "source": []
  }
 ],
 "metadata": {
  "kernelspec": {
   "display_name": "Python 3.8.15 ('cp2')",
   "language": "python",
   "name": "python3"
  },
  "language_info": {
   "codemirror_mode": {
    "name": "ipython",
    "version": 3
   },
   "file_extension": ".py",
   "mimetype": "text/x-python",
   "name": "python",
   "nbconvert_exporter": "python",
   "pygments_lexer": "ipython3",
   "version": "3.8.15"
  },
  "vscode": {
   "interpreter": {
    "hash": "6028cfd98377f31bcd571430ea1247e851d0c89792849df1f15bcdf6f36b93c3"
   }
  }
 },
 "nbformat": 4,
 "nbformat_minor": 5
}
