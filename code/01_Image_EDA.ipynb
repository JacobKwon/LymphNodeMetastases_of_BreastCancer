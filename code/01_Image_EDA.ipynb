{
 "cells": [
  {
   "attachments": {},
   "cell_type": "markdown",
   "id": "487f077a",
   "metadata": {},
   "source": [
    "## Image Max Width and height Find"
   ]
  },
  {
   "cell_type": "code",
   "execution_count": null,
   "id": "0f2e7699",
   "metadata": {},
   "outputs": [],
   "source": [
    "import os\n",
    "import cv2\n",
    "import numpy as np\n",
    "import pandas as pd\n",
    "from matplotlib import pyplot as plt"
   ]
  },
  {
   "cell_type": "code",
   "execution_count": 164,
   "id": "1b1e48c3",
   "metadata": {},
   "outputs": [
    {
     "name": "stdout",
     "output_type": "stream",
     "text": [
      "1308\n"
     ]
    }
   ],
   "source": [
    "files = np.concatenate((\n",
    "    list(map( lambda x: x.replace('BC', './data/test_imgs/BC'), os.listdir(path+'/test_imgs') )),\n",
    "    list(map( lambda x: x.replace('BC', './data/train_imgs/BC'), os.listdir(path+'/train_imgs') )),\n",
    "    list(map( lambda x: x.replace('BC', './data/train_masks/BC'), os.listdir(path+'/train_masks') ))\n",
    "    )\n",
    "    , axis=0)\n",
    "\n",
    "print(files.__len__())"
   ]
  },
  {
   "cell_type": "code",
   "execution_count": 165,
   "id": "3de93ecd",
   "metadata": {},
   "outputs": [
    {
     "name": "stdout",
     "output_type": "stream",
     "text": [
      "0\n",
      "100\n",
      "200\n",
      "300\n",
      "400\n",
      "500\n",
      "600\n",
      "700\n",
      "800\n",
      "900\n",
      "1000\n",
      "1100\n",
      "1200\n",
      "1300\n",
      "1308 1308\n"
     ]
    }
   ],
   "source": [
    "img_extension = ['.jpg', '.jpeg', '.JPG', '.bmp', '.png']\n",
    "\n",
    "imgs_height, imgs_width = [], []\n",
    "\n",
    "for i in range(len(files)):\n",
    "    #process info\n",
    "    if( ( i % 100)==0 ) :\n",
    "        print(i)\n",
    "        \n",
    "    # Img file chk\n",
    "    if os.path.splitext(files[i])[1] in img_extension:\n",
    "        \n",
    "        try:\n",
    "            #Load Img Info\n",
    "            image = cv2.imread(files[i], cv2.IMREAD_ANYCOLOR)\n",
    "            height, width = image.shape[:2]\n",
    "\n",
    "            imgs_height.append(height)\n",
    "            imgs_width.append(width)\n",
    "\n",
    "        except Exception as e:\n",
    "            print('! Exception : \\n',e,'\\n',files[i])\n",
    "\n",
    "print(len(imgs_height), len(imgs_width))"
   ]
  },
  {
   "cell_type": "code",
   "execution_count": 166,
   "id": "4b3283a2",
   "metadata": {},
   "outputs": [
    {
     "data": {
      "text/html": [
       "<div>\n",
       "<style scoped>\n",
       "    .dataframe tbody tr th:only-of-type {\n",
       "        vertical-align: middle;\n",
       "    }\n",
       "\n",
       "    .dataframe tbody tr th {\n",
       "        vertical-align: top;\n",
       "    }\n",
       "\n",
       "    .dataframe thead th {\n",
       "        text-align: right;\n",
       "    }\n",
       "</style>\n",
       "<table border=\"1\" class=\"dataframe\">\n",
       "  <thead>\n",
       "    <tr style=\"text-align: right;\">\n",
       "      <th></th>\n",
       "      <th>fullpath</th>\n",
       "      <th>width</th>\n",
       "      <th>height</th>\n",
       "    </tr>\n",
       "  </thead>\n",
       "  <tbody>\n",
       "    <tr>\n",
       "      <th>0</th>\n",
       "      <td>./data/test_imgs/BC_01_1051.png</td>\n",
       "      <td>5809</td>\n",
       "      <td>2721</td>\n",
       "    </tr>\n",
       "    <tr>\n",
       "      <th>1</th>\n",
       "      <td>./data/test_imgs/BC_01_1079.png</td>\n",
       "      <td>5311</td>\n",
       "      <td>2384</td>\n",
       "    </tr>\n",
       "    <tr>\n",
       "      <th>2</th>\n",
       "      <td>./data/test_imgs/BC_01_2996.png</td>\n",
       "      <td>6474</td>\n",
       "      <td>3512</td>\n",
       "    </tr>\n",
       "    <tr>\n",
       "      <th>3</th>\n",
       "      <td>./data/test_imgs/BC_01_2955.png</td>\n",
       "      <td>6474</td>\n",
       "      <td>3224</td>\n",
       "    </tr>\n",
       "    <tr>\n",
       "      <th>4</th>\n",
       "      <td>./data/test_imgs/BC_01_3256.png</td>\n",
       "      <td>6308</td>\n",
       "      <td>2743</td>\n",
       "    </tr>\n",
       "  </tbody>\n",
       "</table>\n",
       "</div>"
      ],
      "text/plain": [
       "                          fullpath  width  height\n",
       "0  ./data/test_imgs/BC_01_1051.png   5809    2721\n",
       "1  ./data/test_imgs/BC_01_1079.png   5311    2384\n",
       "2  ./data/test_imgs/BC_01_2996.png   6474    3512\n",
       "3  ./data/test_imgs/BC_01_2955.png   6474    3224\n",
       "4  ./data/test_imgs/BC_01_3256.png   6308    2743"
      ]
     },
     "execution_count": 166,
     "metadata": {},
     "output_type": "execute_result"
    }
   ],
   "source": [
    "df = pd.DataFrame({\n",
    "    'fullpath': files,\n",
    "    'width':imgs_width,\n",
    "    'height':imgs_height,\n",
    "    })\n",
    "\n",
    "df.head()"
   ]
  },
  {
   "cell_type": "code",
   "execution_count": 167,
   "id": "17acb38b",
   "metadata": {},
   "outputs": [
    {
     "name": "stdout",
     "output_type": "stream",
     "text": [
      "8299 3991\n"
     ]
    }
   ],
   "source": [
    "print( df['width'].max(), df['height'].max() )"
   ]
  },
  {
   "cell_type": "code",
   "execution_count": 168,
   "id": "f0f541ee",
   "metadata": {},
   "outputs": [],
   "source": [
    "pannel_width = df['width'].max()\n",
    "pannel_height = df['height'].max()"
   ]
  },
  {
   "attachments": {},
   "cell_type": "markdown",
   "id": "97698ff9",
   "metadata": {},
   "source": [
    "## Mask(1ch) Image Process Logic"
   ]
  },
  {
   "cell_type": "markdown",
   "id": "d67bf379",
   "metadata": {},
   "source": [
    "- import lib"
   ]
  },
  {
   "cell_type": "code",
   "execution_count": null,
   "id": "503adbd3",
   "metadata": {},
   "outputs": [],
   "source": [
    "import os\n",
    "import cv2\n",
    "import numpy as np\n",
    "import pandas as pd\n",
    "from matplotlib import pyplot as plt"
   ]
  },
  {
   "cell_type": "markdown",
   "id": "c6a1055e",
   "metadata": {},
   "source": [
    "- file load"
   ]
  },
  {
   "cell_type": "code",
   "execution_count": 162,
   "id": "a021c532",
   "metadata": {},
   "outputs": [
    {
     "name": "stdout",
     "output_type": "stream",
     "text": [
      "1308\n"
     ]
    }
   ],
   "source": [
    "files = list(map( lambda x: x.replace('BC', './data/train_masks/BC'), os.listdir(path+'/train_masks') ))\n",
    "\n",
    "print(files.__len__())"
   ]
  },
  {
   "cell_type": "code",
   "execution_count": null,
   "id": "14553c3e",
   "metadata": {},
   "outputs": [],
   "source": [
    "img_extension = ['.jpg', '.jpeg', '.JPG', '.bmp', '.png']\n",
    "\n",
    "imgs_height, imgs_width = [], []\n",
    "\n",
    "for i in range(len(files)):\n",
    "    #process info\n",
    "    if( ( i % 100)==0 ) :\n",
    "        print(i)\n",
    "        \n",
    "    # Img file chk\n",
    "    if os.path.splitext(files[i])[1] in img_extension:\n",
    "        \n",
    "        try:\n",
    "            #Load Img Info\n",
    "            image = cv2.imread(files[i], cv2.IMREAD_ANYCOLOR)\n",
    "            height, width = image.shape[:2]\n",
    "\n",
    "            imgs_height.append(height)\n",
    "            imgs_width.append(width)\n",
    "\n",
    "            \n",
    "        except Exception as e:\n",
    "            print('! Exception : \\n',e,'\\n',files[i])\n",
    "\n",
    "print(len(imgs_height), len(imgs_width))"
   ]
  },
  {
   "cell_type": "markdown",
   "id": "76e33e9d",
   "metadata": {},
   "source": [
    "- info to df"
   ]
  },
  {
   "cell_type": "code",
   "execution_count": 155,
   "id": "a55490c5",
   "metadata": {},
   "outputs": [
    {
     "data": {
      "text/html": [
       "<div>\n",
       "<style scoped>\n",
       "    .dataframe tbody tr th:only-of-type {\n",
       "        vertical-align: middle;\n",
       "    }\n",
       "\n",
       "    .dataframe tbody tr th {\n",
       "        vertical-align: top;\n",
       "    }\n",
       "\n",
       "    .dataframe thead th {\n",
       "        text-align: right;\n",
       "    }\n",
       "</style>\n",
       "<table border=\"1\" class=\"dataframe\">\n",
       "  <thead>\n",
       "    <tr style=\"text-align: right;\">\n",
       "      <th></th>\n",
       "      <th>fullpath</th>\n",
       "      <th>width</th>\n",
       "      <th>height</th>\n",
       "    </tr>\n",
       "  </thead>\n",
       "  <tbody>\n",
       "    <tr>\n",
       "      <th>0</th>\n",
       "      <td>./data/train_masks/BC_01_0398.png</td>\n",
       "      <td>5809</td>\n",
       "      <td>3064</td>\n",
       "    </tr>\n",
       "    <tr>\n",
       "      <th>1</th>\n",
       "      <td>./data/train_masks/BC_01_0947.png</td>\n",
       "      <td>6474</td>\n",
       "      <td>3025</td>\n",
       "    </tr>\n",
       "    <tr>\n",
       "      <th>2</th>\n",
       "      <td>./data/train_masks/BC_01_0417.png</td>\n",
       "      <td>6141</td>\n",
       "      <td>3071</td>\n",
       "    </tr>\n",
       "    <tr>\n",
       "      <th>3</th>\n",
       "      <td>./data/train_masks/BC_01_0981.png</td>\n",
       "      <td>5643</td>\n",
       "      <td>3057</td>\n",
       "    </tr>\n",
       "    <tr>\n",
       "      <th>4</th>\n",
       "      <td>./data/train_masks/BC_01_0599.png</td>\n",
       "      <td>6308</td>\n",
       "      <td>3251</td>\n",
       "    </tr>\n",
       "  </tbody>\n",
       "</table>\n",
       "</div>"
      ],
      "text/plain": [
       "                            fullpath  width  height\n",
       "0  ./data/train_masks/BC_01_0398.png   5809    3064\n",
       "1  ./data/train_masks/BC_01_0947.png   6474    3025\n",
       "2  ./data/train_masks/BC_01_0417.png   6141    3071\n",
       "3  ./data/train_masks/BC_01_0981.png   5643    3057\n",
       "4  ./data/train_masks/BC_01_0599.png   6308    3251"
      ]
     },
     "execution_count": 155,
     "metadata": {},
     "output_type": "execute_result"
    }
   ],
   "source": [
    "df = pd.DataFrame({\n",
    "    'fullpath': files,\n",
    "    'width':imgs_width,\n",
    "    'height':imgs_height,\n",
    "    })\n",
    "\n",
    "df.head()"
   ]
  },
  {
   "attachments": {},
   "cell_type": "markdown",
   "id": "cb717ea4",
   "metadata": {},
   "source": [
    "- Image Processing\n",
    "> mkdir p_ folder <br>"
   ]
  },
  {
   "cell_type": "code",
   "execution_count": 158,
   "id": "360247e8",
   "metadata": {},
   "outputs": [
    {
     "name": "stdout",
     "output_type": "stream",
     "text": [
      "CPU times: user 6.15 s, sys: 245 ms, total: 6.39 s\n",
      "Wall time: 6.39 s\n"
     ]
    }
   ],
   "source": [
    "%%time\n",
    "\n",
    "for i in range(len(df)):\n",
    "    #make black pannel \n",
    "    pannel = np.zeros((pannel_height, pannel_width), np.uint8)\n",
    "    \n",
    "    #copy location set\n",
    "    w_start = math.ceil( (p_width - df.loc[i].width )/ 2)\n",
    "    w_end = math.ceil( (p_width - df.loc[i].width )/ 2)  + df.loc[i].width\n",
    "    h_start = math.ceil( (p_height - df.loc[i].height )/ 2)\n",
    "    h_end = math.ceil( (p_height - df.loc[i].height )/ 2) + df.loc[i].height\n",
    "    \n",
    "    #load overlap img\n",
    "    image = cv2.imread(df.loc[i].fullpath, cv2.IMREAD_ANYCOLOR)\n",
    "    \n",
    "    #overlap\n",
    "    pannel[h_start:h_end, w_start:w_end] = image\n",
    "    \n",
    "    #save pannel\n",
    "    if 'test_imgs' in df.loc[i].fullpath:\n",
    "        tmp_path = df.loc[i].fullpath.replace('test_imgs', 'p_test_imgs')\n",
    "    elif 'train_imgs' in df.loc[i].fullpath:\n",
    "        tmp_path = df.loc[i].fullpath.replace('train_imgs', 'p_train_imgs')\n",
    "    elif 'train_masks' in df.loc[i].fullpath:\n",
    "        tmp_path = df.loc[i].fullpath.replace('train_masks', 'p_train_masks')\n",
    "    \n",
    "    cv2.imwrite(tmp_path, pannel)\n",
    "    "
   ]
  },
  {
   "cell_type": "code",
   "execution_count": 161,
   "id": "fa1c89e4",
   "metadata": {},
   "outputs": [
    {
     "name": "stdout",
     "output_type": "stream",
     "text": [
      "BC_01_0015.png BC_01_0510.png BC_01_0599.png BC_01_0694.png BC_01_0912.png\r\n",
      "BC_01_0397.png BC_01_0515.png BC_01_0609.png BC_01_0876.png BC_01_0922.png\r\n",
      "BC_01_0398.png BC_01_0516.png BC_01_0612.png BC_01_0877.png BC_01_0925.png\r\n",
      "BC_01_0404.png BC_01_0530.png BC_01_0652.png BC_01_0881.png BC_01_0928.png\r\n",
      "BC_01_0417.png BC_01_0531.png BC_01_0656.png BC_01_0883.png BC_01_0936.png\r\n",
      "BC_01_0425.png BC_01_0532.png BC_01_0660.png BC_01_0885.png BC_01_0938.png\r\n",
      "BC_01_0451.png BC_01_0552.png BC_01_0666.png BC_01_0886.png BC_01_0947.png\r\n",
      "BC_01_0454.png BC_01_0572.png BC_01_0668.png BC_01_0893.png BC_01_0974.png\r\n",
      "BC_01_0455.png BC_01_0583.png BC_01_0673.png BC_01_0902.png BC_01_0980.png\r\n",
      "BC_01_0457.png BC_01_0585.png BC_01_0674.png BC_01_0905.png BC_01_0981.png\r\n",
      "BC_01_0459.png BC_01_0587.png BC_01_0681.png BC_01_0906.png\r\n",
      "BC_01_0471.png BC_01_0591.png BC_01_0693.png BC_01_0907.png\r\n"
     ]
    }
   ],
   "source": [
    "!ls data/p_train_masks"
   ]
  },
  {
   "attachments": {},
   "cell_type": "markdown",
   "id": "7e245eff",
   "metadata": {},
   "source": [
    "## 3ch Image Processing"
   ]
  },
  {
   "cell_type": "markdown",
   "id": "135d7c46",
   "metadata": {},
   "source": [
    "- import lib"
   ]
  },
  {
   "cell_type": "code",
   "execution_count": null,
   "id": "e4f3beae",
   "metadata": {},
   "outputs": [],
   "source": [
    "import os\n",
    "import cv2\n",
    "import numpy as np\n",
    "import pandas as pd\n",
    "from matplotlib import pyplot as plt"
   ]
  },
  {
   "cell_type": "markdown",
   "id": "9befeb5e",
   "metadata": {},
   "source": [
    "- file lists load"
   ]
  },
  {
   "cell_type": "code",
   "execution_count": null,
   "id": "33dae804",
   "metadata": {},
   "outputs": [],
   "source": [
    "files = np.concatenate((\n",
    "    list(map( lambda x: x.replace('BC', './data/test_imgs/BC'), os.listdir(path+'/test_imgs') )),\n",
    "    list(map( lambda x: x.replace('BC', './data/train_imgs/BC'), os.listdir(path+'/train_imgs') ))\n",
    "    )\n",
    "    , axis=0)\n",
    "\n",
    "print(files.__len__())"
   ]
  },
  {
   "cell_type": "code",
   "execution_count": null,
   "id": "ea7fba25",
   "metadata": {},
   "outputs": [],
   "source": [
    "img_extension = ['.jpg', '.jpeg', '.JPG', '.bmp', '.png']\n",
    "\n",
    "imgs_height, imgs_width, imgs_channel = [], [], []\n",
    "\n",
    "for i in range(len(files)):\n",
    "    #process info\n",
    "    if( ( i % 100)==0 ) :\n",
    "        print(i)\n",
    "        \n",
    "    # Img file chk\n",
    "    if os.path.splitext(files[i])[1] in img_extension:\n",
    "        \n",
    "        try:\n",
    "            #Load Img Info\n",
    "            image = cv2.imread(files[i], cv2.IMREAD_ANYCOLOR)\n",
    "            height, width, channel = image.shape\n",
    "\n",
    "            imgs_height.append(height)\n",
    "            imgs_width.append(width)\n",
    "            imgs_channel.append(channel)\n",
    "            \n",
    "        except Exception as e:\n",
    "            print('! Exception : \\n',e,'\\n',files[i])\n",
    "\n",
    "print(len(imgs_height), len(imgs_width), len(imgs_channel))"
   ]
  },
  {
   "cell_type": "markdown",
   "id": "8ab51b89",
   "metadata": {},
   "source": [
    "- info to df"
   ]
  },
  {
   "cell_type": "code",
   "execution_count": null,
   "id": "9d85103a",
   "metadata": {},
   "outputs": [],
   "source": [
    "df = pd.DataFrame({\n",
    "    'fullpath': files,\n",
    "    'width':imgs_width,\n",
    "    'height':imgs_height,\n",
    "    'channel':imgs_channel,\n",
    "    })\n",
    "\n",
    "df.head()"
   ]
  },
  {
   "attachments": {},
   "cell_type": "markdown",
   "id": "2dbe4dfa",
   "metadata": {},
   "source": [
    "- Image Processing\n",
    "> mkdir p_ folder"
   ]
  },
  {
   "cell_type": "code",
   "execution_count": null,
   "id": "e2da187c",
   "metadata": {},
   "outputs": [],
   "source": [
    "%%time\n",
    "\n",
    "for i in range(len(df)):\n",
    "    #make black pannel \n",
    "    pannel = np.zeros((pannel_height, pannel_width, 3), np.uint8)\n",
    "    \n",
    "    #copy location set\n",
    "    w_start = math.ceil( (p_width - df.loc[i].width )/ 2)\n",
    "    w_end = math.ceil( (p_width - df.loc[i].width )/ 2)  + df.loc[i].width\n",
    "    h_start = math.ceil( (p_height - df.loc[i].height )/ 2)\n",
    "    h_end = math.ceil( (p_height - df.loc[i].height )/ 2) + df.loc[i].height\n",
    "    \n",
    "    #load overlap img\n",
    "    image = cv2.imread(df.loc[i].fullpath, cv2.IMREAD_ANYCOLOR)\n",
    "    \n",
    "    #overlap\n",
    "    pannel[h_start:h_end, w_start:w_end] = image\n",
    "    \n",
    "    #save pannel\n",
    "    if 'test_imgs' in df.loc[i].fullpath:\n",
    "        tmp_path = df.loc[i].fullpath.replace('test_imgs', 'p_test_imgs')\n",
    "    elif 'train_imgs' in df.loc[i].fullpath:\n",
    "        tmp_path = df.loc[i].fullpath.replace('train_imgs', 'p_train_imgs')\n",
    "    elif 'train_masks' in df.loc[i].fullpath:\n",
    "        tmp_path = df.loc[i].fullpath.replace('train_masks', 'p_train_masks')\n",
    "    \n",
    "    cv2.imwrite(tmp_path, pannel)\n",
    "    "
   ]
  }
 ],
 "metadata": {
  "kernelspec": {
   "display_name": "Python 3 (ipykernel)",
   "language": "python",
   "name": "python3"
  },
  "language_info": {
   "codemirror_mode": {
    "name": "ipython",
    "version": 3
   },
   "file_extension": ".py",
   "mimetype": "text/x-python",
   "name": "python",
   "nbconvert_exporter": "python",
   "pygments_lexer": "ipython3",
   "version": "3.8.15"
  }
 },
 "nbformat": 4,
 "nbformat_minor": 5
}
